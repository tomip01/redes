{
  "cells": [
    {
      "cell_type": "code",
      "execution_count": 1,
      "id": "50289afc",
      "metadata": {
        "id": "50289afc"
      },
      "outputs": [
        {
          "name": "stdout",
          "output_type": "stream",
          "text": [
            "Defaulting to user installation because normal site-packages is not writeable\n",
            "Requirement already satisfied: scapy in /usr/lib/python3/dist-packages (2.5.0)\n"
          ]
        }
      ],
      "source": [
        "!pip install scapy\n",
        "from scapy.all import *"
      ]
    },
    {
      "cell_type": "markdown",
      "id": "60ca3318",
      "metadata": {
        "id": "60ca3318"
      },
      "source": [
        "## Bienvenidxs al taller de Wiretapping 2023."
      ]
    },
    {
      "cell_type": "markdown",
      "id": "90a32ee7",
      "metadata": {
        "id": "90a32ee7"
      },
      "source": [
        "A lo largo del taller van a poder probar los diferentes comandos que nos provee la librería Scapy. El objetivo es que al finalizar el taller tengan el código necesario para poder hacer los experimentos y el informe."
      ]
    },
    {
      "cell_type": "markdown",
      "id": "a4c3f4fa",
      "metadata": {
        "id": "a4c3f4fa"
      },
      "source": [
        "# Jupyter Notebook"
      ]
    },
    {
      "cell_type": "markdown",
      "id": "3c442614",
      "metadata": {
        "id": "3c442614"
      },
      "source": [
        "Para empezar, vamos a utilizar un notebook de Jupyter, una herramienta para correr Python **muy** recomendada, donde pueden escribir y correr código Python. Cada sección donde hay código se le llama **celda** (Cell, en inglés).\n",
        "- Para ejecutar el código que hay dentro de una celda se utiliza `Cntrl + Enter`."
      ]
    },
    {
      "cell_type": "markdown",
      "id": "994c367a",
      "metadata": {
        "id": "994c367a"
      },
      "source": [
        "# Scapy\n",
        "* Es una librería de Python.\n",
        "* Es muy útil para:\n",
        "    * Crear paquetes de red.\n",
        "    * Decodificar paquetes.\n",
        "    * Capturar.\n",
        "    * Enviar y recibir paquetes (próximo taller, stay tuned).\n",
        "    \n",
        "Documentación (**recomendada**): https://scapy.readthedocs.io/en/latest/    \n",
        "Para saber más:    "
      ]
    },
    {
      "cell_type": "markdown",
      "id": "60a9c789",
      "metadata": {
        "id": "60a9c789"
      },
      "source": [
        "## Ej. 1: Utilizando Scapy ver cómo es el formato del paquete Ether y ARP\n",
        "1. `ls()` para ver todos los tipos de paquetes que reconoce Scapy.\n",
        "2. `ls(PROTOCOLO)` si reemplazamos PROTOCOLO por algún protocolo (ej: IP, ETHER) podremos ver el formato del paquete. Probar ls(IP) o ls(Ether)"
      ]
    },
    {
      "cell_type": "code",
      "execution_count": 28,
      "id": "1ec9a9c1",
      "metadata": {
        "id": "1ec9a9c1"
      },
      "outputs": [
        {
          "name": "stdout",
          "output_type": "stream",
          "text": [
            "dst        : DestMACField                        = ('None')\n",
            "src        : SourceMACField                      = ('None')\n",
            "type       : XShortEnumField                     = ('36864')\n"
          ]
        }
      ],
      "source": [
        "ls(Ether)"
      ]
    },
    {
      "cell_type": "markdown",
      "id": "a5e9d195",
      "metadata": {
        "id": "a5e9d195"
      },
      "source": [
        "## Ej. 2: Crear un paquete, codificarlo y decodificarlo.\n",
        "\n",
        "En el siguiente ejercicio tendremos que asignar a una variable un paquete de Ethernet (consultar en la documentación), convertirlo a bytes (recuerden que los símbolos que recibe la interfaz de red no son más que bits que luego son interpretados) para luego reconvertirlo a un paquete legible.\n",
        "\n",
        "*Hint:\n",
        "Para ver en formato bytes utilizamos `raw(FRAME)`, para ver en un formato más amigable `hexdump(FRAME)`. Luego para reconstruirlo podremos hacer `Ether(formato_en_bytes)`.*"
      ]
    },
    {
      "cell_type": "code",
      "execution_count": null,
      "id": "016f5012",
      "metadata": {
        "id": "016f5012"
      },
      "outputs": [],
      "source": [
        "IP(raw(IP()))"
      ]
    },
    {
      "cell_type": "markdown",
      "id": "de90ff07",
      "metadata": {
        "id": "de90ff07"
      },
      "source": [
        "## Ej. 3: Inspeccionando frames"
      ]
    },
    {
      "cell_type": "markdown",
      "id": "9d969e7f",
      "metadata": {
        "id": "9d969e7f"
      },
      "source": [
        "### Ej. 3.1: Dado un paquete Ethernet , imprimir con la función print(), su destino (dst), fuente (src) y número de protocolo superior (type)"
      ]
    },
    {
      "cell_type": "code",
      "execution_count": 5,
      "id": "ac83a450",
      "metadata": {
        "id": "ac83a450"
      },
      "outputs": [
        {
          "name": "stdout",
          "output_type": "stream",
          "text": [
            "IP / TCP 192.168.44.36:ftp_data > Net(\"www.dc.uba.ar/32\"):http S / Raw\n"
          ]
        }
      ],
      "source": [
        "# Los protocolos separados por \"/\" significa que estoy encapsulando uno dentro del otro\n",
        "\n",
        "frame = Ether()/IP(dst=\"www.dc.uba.ar\")/TCP()/\"GET /index.html HTTP/1.0 \\n\\n\"\n",
        "print(frame[IP]) # Observar que la manera de acceder a un protocolo encapsulado es de la manera frame[PROTOCOLO]."
      ]
    },
    {
      "cell_type": "markdown",
      "id": "9aa8c442",
      "metadata": {
        "id": "9aa8c442"
      },
      "source": [
        "### Ej 3.2: Dado una lista de paquetes, filtrar por protocol."
      ]
    },
    {
      "cell_type": "markdown",
      "id": "5088bf99",
      "metadata": {
        "id": "5088bf99"
      },
      "source": [
        "PCAP (Package CAPture) es un formato muy utilizado para capturar tráfico de la red. Al utilizar Sniffers como Wireshark, podremos exportar el dump en formato `pcap` y consumirlo desde Scapy. Lo que devuelve `rdpcap` es una lista de frames la cual puede iterarse como cualquier lista.\n",
        "\n",
        "Como vimos en el ejercicio 3.1 uno puede dado un paquete, pedir su destino, fuente e incluso el tipo (*layer*) de protocolo.\n",
        "\n",
        "* Los paquetes de Scapy proveen la función `haslayer(layer)`. Esto devuelve un booleano si dentro del paquete se encuentra el `layer`. Si a un paquete `pkt = Ether()` le pedimos `pkt.haslayer(IP)` devuelve falso. Incluso, los paquetes permiten indexar por protocolo.\n",
        "\n",
        "\n",
        "* Podremos pedirle al paquete **pkt** `pkt[IP]` y devolverá únicamente el paquete IP y lo que este encapsula. Tener en cuenta que `pkt[IP].dst` nos devolverá un resultado distinto que `pkt[Ether].dst`.\n",
        "\n",
        "\n",
        "Para este ejercicio:\n",
        "\n",
        "- Contar cuantos paquetes contienen a la capa Ethernet.\n",
        "- Contar cuantas direcciones destino distintas de capa 2 hay.\n",
        "- Enumerar los distintos tipos de protocolos que encapsula la capa 2."
      ]
    },
    {
      "cell_type": "code",
      "execution_count": 29,
      "id": "e73a79b2",
      "metadata": {
        "id": "e73a79b2"
      },
      "outputs": [
        {
          "name": "stdout",
          "output_type": "stream",
          "text": [
            "97\n",
            "{'ff:ff:ff:ff:ff:ff', '6c:ba:b8:e7:6c:44', '3c:06:30:1c:c3:eb'}\n",
            "{2048, 34525, 2054}\n"
          ]
        }
      ],
      "source": [
        "dump_de_frames = rdpcap(\"./dump_prueba.pcap\")\n",
        "#\n",
        "count = 0\n",
        "conjunto = {*()}\n",
        "conjunto2 = {*()}\n",
        "\n",
        "for p in dump_de_frames:\n",
        "    if p.haslayer(Ether):\n",
        "        count+=1\n",
        "    conjunto.add(p[Ether].dst)\n",
        "    conjunto2.add(p[Ether].type)\n",
        "#\n",
        "print(count)\n",
        "print(conjunto)\n",
        "print(conjunto2)"
      ]
    },
    {
      "cell_type": "markdown",
      "id": "0367652c",
      "metadata": {
        "id": "0367652c"
      },
      "source": [
        "## Ej. 4: Sniffing"
      ]
    },
    {
      "cell_type": "markdown",
      "id": "3d1742e2",
      "metadata": {
        "id": "3d1742e2"
      },
      "source": [
        "Scapy es una herramienta que además de permitir inspeccionar paquetes, permite hacer lo mismo que Wireshark desde el mismo código. De esta manera podremos capturar paquetes e inspeccionarlos sin salir de nuestro programa de Python.\n",
        "\n",
        "Veamos que hace la herramienta `sniff`."
      ]
    },
    {
      "cell_type": "code",
      "execution_count": 30,
      "id": "584e68a9",
      "metadata": {
        "id": "584e68a9"
      },
      "outputs": [
        {
          "name": "stdout",
          "output_type": "stream",
          "text": [
            "Help on function sniff in module scapy.sendrecv:\n",
            "\n",
            "sniff(*args, **kwargs)\n",
            "    Sniff packets and return a list of packets.\n",
            "    \n",
            "    Args:\n",
            "        count: number of packets to capture. 0 means infinity.\n",
            "        store: whether to store sniffed packets or discard them\n",
            "        prn: function to apply to each packet. If something is returned, it\n",
            "             is displayed.\n",
            "             --Ex: prn = lambda x: x.summary()\n",
            "        session: a session = a flow decoder used to handle stream of packets.\n",
            "                 --Ex: session=TCPSession\n",
            "                 See below for more details.\n",
            "        filter: BPF filter to apply.\n",
            "        lfilter: Python function applied to each packet to determine if\n",
            "                 further action may be done.\n",
            "                 --Ex: lfilter = lambda x: x.haslayer(Padding)\n",
            "        offline: PCAP file (or list of PCAP files) to read packets from,\n",
            "                 instead of sniffing them\n",
            "        quiet:   when set to True, the process stderr is discarded\n",
            "                 (default: False).\n",
            "        timeout: stop sniffing after a given time (default: None).\n",
            "        L2socket: use the provided L2socket (default: use conf.L2listen).\n",
            "        opened_socket: provide an object (or a list of objects) ready to use\n",
            "                      .recv() on.\n",
            "        stop_filter: Python function applied to each packet to determine if\n",
            "                     we have to stop the capture after this packet.\n",
            "                     --Ex: stop_filter = lambda x: x.haslayer(TCP)\n",
            "        iface: interface or list of interfaces (default: None for sniffing\n",
            "               on all interfaces).\n",
            "        monitor: use monitor mode. May not be available on all OS\n",
            "        started_callback: called as soon as the sniffer starts sniffing\n",
            "                          (default: None).\n",
            "    \n",
            "    The iface, offline and opened_socket parameters can be either an\n",
            "    element, a list of elements, or a dict object mapping an element to a\n",
            "    label (see examples below).\n",
            "    \n",
            "    For more information about the session argument, see\n",
            "    https://scapy.rtfd.io/en/latest/usage.html#advanced-sniffing-sniffing-sessions\n",
            "    \n",
            "    Examples: synchronous\n",
            "      >>> sniff(filter=\"arp\")\n",
            "      >>> sniff(filter=\"tcp\",\n",
            "      ...       session=IPSession,  # defragment on-the-flow\n",
            "      ...       prn=lambda x: x.summary())\n",
            "      >>> sniff(lfilter=lambda pkt: ARP in pkt)\n",
            "      >>> sniff(iface=\"eth0\", prn=Packet.summary)\n",
            "      >>> sniff(iface=[\"eth0\", \"mon0\"],\n",
            "      ...       prn=lambda pkt: \"%s: %s\" % (pkt.sniffed_on,\n",
            "      ...                                   pkt.summary()))\n",
            "      >>> sniff(iface={\"eth0\": \"Ethernet\", \"mon0\": \"Wifi\"},\n",
            "      ...       prn=lambda pkt: \"%s: %s\" % (pkt.sniffed_on,\n",
            "      ...                                   pkt.summary()))\n",
            "    \n",
            "    Examples: asynchronous\n",
            "      >>> t = AsyncSniffer(iface=\"enp0s3\")\n",
            "      >>> t.start()\n",
            "      >>> time.sleep(1)\n",
            "      >>> print(\"nice weather today\")\n",
            "      >>> t.stop()\n",
            "\n"
          ]
        }
      ],
      "source": [
        "help(sniff)"
      ]
    },
    {
      "cell_type": "markdown",
      "id": "29adbf08",
      "metadata": {
        "id": "29adbf08"
      },
      "source": [
        "### Ej 4.1: Contar Broadcast & Unicast\n",
        "\n",
        "Utilizando la función `sniff(count=10)`, por cada paquete nuevo, que se invoque a una segunda función implementada por nosotrxs y que cuente para aquellos paquetes de la capa Ethernet, cuántos son de Broadcast (`dst=ff:ff:ff:ff:ff:ff`) y cuántos Unicast."
      ]
    },
    {
      "cell_type": "code",
      "execution_count": 39,
      "id": "99c36a3e",
      "metadata": {
        "id": "99c36a3e"
      },
      "outputs": [
        {
          "name": "stdout",
          "output_type": "stream",
          "text": [
            "zsh:1: no such file or directory: benjito\n"
          ]
        },
        {
          "ename": "PermissionError",
          "evalue": "[Errno 1] Operation not permitted",
          "output_type": "error",
          "traceback": [
            "\u001b[0;31m---------------------------------------------------------------------------\u001b[0m",
            "\u001b[0;31mPermissionError\u001b[0m                           Traceback (most recent call last)",
            "\u001b[1;32m/home/tomas/uba/redes/tallerWiretapping/Taller_Wiretapping_2023_consigna.ipynb Cell 21\u001b[0m line \u001b[0;36m2\n\u001b[1;32m      <a href='vscode-notebook-cell:/home/tomas/uba/redes/tallerWiretapping/Taller_Wiretapping_2023_consigna.ipynb#X26sZmlsZQ%3D%3D?line=0'>1</a>\u001b[0m get_ipython()\u001b[39m.\u001b[39msystem(\u001b[39m\"\u001b[39m\u001b[39msudo su < \u001b[39m\u001b[39m'\u001b[39m\u001b[39mbenjito\u001b[39m\u001b[39m'\u001b[39m\u001b[39m\"\u001b[39m)\n\u001b[0;32m----> <a href='vscode-notebook-cell:/home/tomas/uba/redes/tallerWiretapping/Taller_Wiretapping_2023_consigna.ipynb#X26sZmlsZQ%3D%3D?line=1'>2</a>\u001b[0m a \u001b[39m=\u001b[39m sniff(count\u001b[39m=\u001b[39;49m\u001b[39m5\u001b[39;49m)\n\u001b[1;32m      <a href='vscode-notebook-cell:/home/tomas/uba/redes/tallerWiretapping/Taller_Wiretapping_2023_consigna.ipynb#X26sZmlsZQ%3D%3D?line=2'>3</a>\u001b[0m \u001b[39m# def funcion():\u001b[39;00m\n\u001b[1;32m      <a href='vscode-notebook-cell:/home/tomas/uba/redes/tallerWiretapping/Taller_Wiretapping_2023_consigna.ipynb#X26sZmlsZQ%3D%3D?line=3'>4</a>\u001b[0m \u001b[39m#     Renombrar función\u001b[39;00m\n\u001b[1;32m      <a href='vscode-notebook-cell:/home/tomas/uba/redes/tallerWiretapping/Taller_Wiretapping_2023_consigna.ipynb#X26sZmlsZQ%3D%3D?line=4'>5</a>\u001b[0m \u001b[39m#     print(algo)\u001b[39;00m\n",
            "File \u001b[0;32m/usr/lib/python3/dist-packages/scapy/sendrecv.py:1311\u001b[0m, in \u001b[0;36msniff\u001b[0;34m(*args, **kwargs)\u001b[0m\n\u001b[1;32m   1307\u001b[0m \u001b[39m@conf\u001b[39m\u001b[39m.\u001b[39mcommands\u001b[39m.\u001b[39mregister\n\u001b[1;32m   1308\u001b[0m \u001b[39mdef\u001b[39;00m \u001b[39msniff\u001b[39m(\u001b[39m*\u001b[39margs, \u001b[39m*\u001b[39m\u001b[39m*\u001b[39mkwargs):\n\u001b[1;32m   1309\u001b[0m     \u001b[39m# type: (*Any, **Any) -> PacketList\u001b[39;00m\n\u001b[1;32m   1310\u001b[0m     sniffer \u001b[39m=\u001b[39m AsyncSniffer()\n\u001b[0;32m-> 1311\u001b[0m     sniffer\u001b[39m.\u001b[39;49m_run(\u001b[39m*\u001b[39;49margs, \u001b[39m*\u001b[39;49m\u001b[39m*\u001b[39;49mkwargs)\n\u001b[1;32m   1312\u001b[0m     \u001b[39mreturn\u001b[39;00m cast(PacketList, sniffer\u001b[39m.\u001b[39mresults)\n",
            "File \u001b[0;32m/usr/lib/python3/dist-packages/scapy/sendrecv.py:1171\u001b[0m, in \u001b[0;36mAsyncSniffer._run\u001b[0;34m(self, count, store, offline, quiet, prn, lfilter, L2socket, timeout, opened_socket, stop_filter, iface, started_callback, session, session_kwargs, **karg)\u001b[0m\n\u001b[1;32m   1169\u001b[0m     \u001b[39melse\u001b[39;00m:\n\u001b[1;32m   1170\u001b[0m         iface \u001b[39m=\u001b[39m iface \u001b[39mor\u001b[39;00m conf\u001b[39m.\u001b[39miface\n\u001b[0;32m-> 1171\u001b[0m         sniff_sockets[_RL2(iface)(\u001b[39mtype\u001b[39;49m\u001b[39m=\u001b[39;49mETH_P_ALL, iface\u001b[39m=\u001b[39;49miface,\n\u001b[1;32m   1172\u001b[0m                                   \u001b[39m*\u001b[39;49m\u001b[39m*\u001b[39;49mkarg)] \u001b[39m=\u001b[39m iface\n\u001b[1;32m   1174\u001b[0m \u001b[39m# Get select information from the sockets\u001b[39;00m\n\u001b[1;32m   1175\u001b[0m _main_socket \u001b[39m=\u001b[39m \u001b[39mnext\u001b[39m(\u001b[39miter\u001b[39m(sniff_sockets))\n",
            "File \u001b[0;32m/usr/lib/python3/dist-packages/scapy/arch/linux.py:484\u001b[0m, in \u001b[0;36mL2Socket.__init__\u001b[0;34m(self, iface, type, promisc, filter, nofilter, monitor)\u001b[0m\n\u001b[1;32m    482\u001b[0m \u001b[39mself\u001b[39m\u001b[39m.\u001b[39mtype \u001b[39m=\u001b[39m \u001b[39mtype\u001b[39m\n\u001b[1;32m    483\u001b[0m \u001b[39mself\u001b[39m\u001b[39m.\u001b[39mpromisc \u001b[39m=\u001b[39m conf\u001b[39m.\u001b[39msniff_promisc \u001b[39mif\u001b[39;00m promisc \u001b[39mis\u001b[39;00m \u001b[39mNone\u001b[39;00m \u001b[39melse\u001b[39;00m promisc\n\u001b[0;32m--> 484\u001b[0m \u001b[39mself\u001b[39m\u001b[39m.\u001b[39mins \u001b[39m=\u001b[39m socket\u001b[39m.\u001b[39;49msocket(\n\u001b[1;32m    485\u001b[0m     socket\u001b[39m.\u001b[39;49mAF_PACKET, socket\u001b[39m.\u001b[39;49mSOCK_RAW, socket\u001b[39m.\u001b[39;49mhtons(\u001b[39mtype\u001b[39;49m))\n\u001b[1;32m    486\u001b[0m \u001b[39mself\u001b[39m\u001b[39m.\u001b[39mins\u001b[39m.\u001b[39msetsockopt(socket\u001b[39m.\u001b[39mSOL_SOCKET, socket\u001b[39m.\u001b[39mSO_RCVBUF, \u001b[39m0\u001b[39m)\n\u001b[1;32m    487\u001b[0m \u001b[39mif\u001b[39;00m \u001b[39mnot\u001b[39;00m nofilter:\n",
            "File \u001b[0;32m/usr/lib/python3.11/socket.py:232\u001b[0m, in \u001b[0;36msocket.__init__\u001b[0;34m(self, family, type, proto, fileno)\u001b[0m\n\u001b[1;32m    230\u001b[0m     \u001b[39mif\u001b[39;00m proto \u001b[39m==\u001b[39m \u001b[39m-\u001b[39m\u001b[39m1\u001b[39m:\n\u001b[1;32m    231\u001b[0m         proto \u001b[39m=\u001b[39m \u001b[39m0\u001b[39m\n\u001b[0;32m--> 232\u001b[0m _socket\u001b[39m.\u001b[39;49msocket\u001b[39m.\u001b[39;49m\u001b[39m__init__\u001b[39;49m(\u001b[39mself\u001b[39;49m, family, \u001b[39mtype\u001b[39;49m, proto, fileno)\n\u001b[1;32m    233\u001b[0m \u001b[39mself\u001b[39m\u001b[39m.\u001b[39m_io_refs \u001b[39m=\u001b[39m \u001b[39m0\u001b[39m\n\u001b[1;32m    234\u001b[0m \u001b[39mself\u001b[39m\u001b[39m.\u001b[39m_closed \u001b[39m=\u001b[39m \u001b[39mFalse\u001b[39;00m\n",
            "\u001b[0;31mPermissionError\u001b[0m: [Errno 1] Operation not permitted"
          ]
        }
      ],
      "source": [
        "a = sniff(count=5)\n",
        "# def funcion():\n",
        "#     Renombrar función\n",
        "#     print(algo)"
      ]
    },
    {
      "cell_type": "markdown",
      "id": "2337a018",
      "metadata": {
        "id": "2337a018"
      },
      "source": [
        "### Ej 4.2 Contar protocolos de la capa superior"
      ]
    },
    {
      "cell_type": "markdown",
      "id": "1b642deb",
      "metadata": {
        "id": "1b642deb"
      },
      "source": [
        "Además utilizando el campo `type` del paquete de Ethernet, mostrar qué protocolos de la capa superior inmediata aparecen y cuántos por cada uno."
      ]
    },
    {
      "cell_type": "code",
      "execution_count": null,
      "id": "fb0cf286",
      "metadata": {
        "id": "fb0cf286"
      },
      "outputs": [],
      "source": []
    },
    {
      "cell_type": "markdown",
      "id": "c1aa294e",
      "metadata": {
        "id": "c1aa294e"
      },
      "source": [
        "# Trabajo práctico"
      ]
    },
    {
      "cell_type": "markdown",
      "id": "cb2da377",
      "metadata": {
        "id": "cb2da377"
      },
      "source": [
        "Sean p1..pn las tramas de capa 2 que se capturan en una red local. Se pueden modelar las tramas capturadas como una fuente de información de memoria nula S<sub>1</sub> = {s<sub>1</sub>, s<sub>2</sub>, ..., s<sub>q</sub>}, donde cada si está formado por la combinación entre el tipo de destino de la trama (Unicast o Broadcast) y el protocolo de la capa inmediata superior encapsulado en la misma. Por ejemplo, s<sub>i</sub> = < Broadcast, ARP >.\n",
        "\n",
        "A continuación se presenta un código Python de ejemplo para capturar de paquetes y calcula las probabilidades de cada uno de los símbolos de la fuente de información S1 en una red con la que tenemos conexión."
      ]
    },
    {
      "cell_type": "code",
      "execution_count": null,
      "id": "3a09685e",
      "metadata": {
        "id": "3a09685e",
        "tags": [
          "hide-input"
        ]
      },
      "outputs": [],
      "source": [
        "S1 = {}\n",
        "def mostrar_fuente(S):\n",
        "    N = sum(S.values())\n",
        "    simbolos = sorted(S.items(), key=lambda x: -x[1])\n",
        "    print(\"\\n\".join([ \" %s : %.5f\" % (d,k/N) for d,k in simbolos ]))\n",
        "    print()\n",
        "def callback(pkt):\n",
        "    if pkt.haslayer(Ether):\n",
        "        dire = \"BROADCAST\" if pkt[Ether].dst==\"ff:ff:ff:ff:ff:ff\" else \"UNICAST\"\n",
        "        proto = pkt[Ether].type # El campo type del frame tiene el protocolo\n",
        "        s_i = (dire, proto) # Aca se define el simbolo de la fuente\n",
        "        if s_i not in S1:\n",
        "            S1[s_i] = 0.0\n",
        "        S1[s_i] += 1.0\n",
        "    mostrar_fuente(S1)\n",
        "\n",
        "sniff(prn=callback)"
      ]
    },
    {
      "cell_type": "markdown",
      "id": "de141510",
      "metadata": {
        "id": "de141510"
      },
      "source": [
        "En dicha salida se muestran los símbolos de la fuente de información S1 y sus respectivas probabilidades.\n",
        "Cada símbolo es una tupla que indica si se trata de paquetes **Broadcast** o **Unicast** y el **protocolo de capa\n",
        "superior** al que corresponde cada paquete capturado. Por ejemplo, 2048 es IP, de los que se capturaron sólo\n",
        "paquete Broadcast, 2054 es ARP para los cuales hay tanto Broadcast como Unicast, etc.\n",
        "\n",
        "Probar la captura de paquetes usando el código presentado anteriormente, que captura tráfico en una red local y muestra representativamente la fuente modelada S1.\n",
        "\n",
        "La salida consiste en una tabla que muestra la probabilidad de cada símbolo de la fuente. Luego, extender el código para que calcule la información de cada símbolo y la entropía de la fuente. Finalmente, realizar una captura de tráfico utilizando el código extendido anteriormente. La captura deben ser lo más extensa posibles (por ejemplo de más de 10.000 tramas)."
      ]
    },
    {
      "cell_type": "markdown",
      "id": "c65e57e3",
      "metadata": {
        "id": "c65e57e3"
      },
      "source": [
        "### Info util para Python\n",
        "\n",
        "Si utilizamos un editor de texto, luego para correr el archivo corremos en la terminal\n",
        "```\n",
        "$python3 archivo.py\n",
        "```\n",
        "\n",
        "Si queremos declarar funciones y luego usarlas en un main, debemos declarar la función main de la siguiente manera:\n",
        "    \n",
        "```\n",
        "def main() -> int:\n",
        "    phrase = \"hola\"\n",
        "    echo(phrase)\n",
        "    return 0\n",
        "\n",
        "if __name__ == '__main__':\n",
        "    main()\n",
        "```\n",
        "\n",
        "También se puede usar Jupyter Notebook."
      ]
    },
    {
      "cell_type": "code",
      "execution_count": null,
      "id": "5c4024f5",
      "metadata": {
        "id": "5c4024f5"
      },
      "outputs": [],
      "source": [
        "sniff()"
      ]
    },
    {
      "cell_type": "code",
      "execution_count": null,
      "id": "STSgwsixxqd8",
      "metadata": {
        "id": "STSgwsixxqd8"
      },
      "outputs": [],
      "source": [
        "lsc()"
      ]
    }
  ],
  "metadata": {
    "colab": {
      "provenance": []
    },
    "kernelspec": {
      "display_name": "Python 3 (ipykernel)",
      "language": "python",
      "name": "python3"
    },
    "language_info": {
      "codemirror_mode": {
        "name": "ipython",
        "version": 3
      },
      "file_extension": ".py",
      "mimetype": "text/x-python",
      "name": "python",
      "nbconvert_exporter": "python",
      "pygments_lexer": "ipython3",
      "version": "3.11.4"
    }
  },
  "nbformat": 4,
  "nbformat_minor": 5
}
